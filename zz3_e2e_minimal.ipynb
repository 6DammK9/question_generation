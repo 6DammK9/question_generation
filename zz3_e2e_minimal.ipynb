{
 "cells": [
  {
   "cell_type": "code",
   "execution_count": 1,
   "metadata": {},
   "outputs": [],
   "source": [
    "text = \"Python is an interpreted, high-level, general-purpose programming language. Created by Guido van Rossum \\\n",
    "and first released in 1991, Python's design philosophy emphasizes code \\\n",
    "readability with its notable use of significant whitespace.\"\n",
    "\n",
    "text2 = \"Gravity (from Latin gravitas, meaning 'weight'), or gravitation, is a natural phenomenon by which all \\\n",
    "things with mass or energy—including planets, stars, galaxies, and even light—are brought toward (or gravitate toward) \\\n",
    "one another. On Earth, gravity gives weight to physical objects, and the Moon's gravity causes the ocean tides. \\\n",
    "The gravitational attraction of the original gaseous matter present in the Universe caused it to begin coalescing \\\n",
    "and forming stars and caused the stars to group together into galaxies, so gravity is responsible for many of \\\n",
    "the large-scale structures in the Universe. Gravity has an infinite range, although its effects become increasingly \\\n",
    "weaker as objects get further away\"\n",
    "\n",
    "text3 = \"42 is the answer to life, universe and everything.\"\n",
    "\n",
    "text4 = \"Forrest Gump is a 1994 American comedy-drama film directed by Robert Zemeckis and written by Eric Roth. \\\n",
    "It is based on the 1986 novel of the same name by Winston Groom and stars Tom Hanks, Robin Wright, Gary Sinise, \\\n",
    "Mykelti Williamson and Sally Field. The story depicts several decades in the life of Forrest Gump (Hanks), \\\n",
    "a slow-witted but kind-hearted man from Alabama who witnesses and unwittingly influences several defining \\\n",
    "historical events in the 20th century United States. The film differs substantially from the novel.\""
   ]
  },
  {
   "cell_type": "code",
   "execution_count": 2,
   "metadata": {},
   "outputs": [],
   "source": [
    "from pipelines import pipeline\n",
    "from nlgeval import compute_metrics\n",
    "from tqdm import tqdm"
   ]
  },
  {
   "cell_type": "code",
   "execution_count": 3,
   "metadata": {},
   "outputs": [],
   "source": [
    "nlp = pipeline(\"e2e-qg\")\n",
    "\n",
    "hyp =  'eval_test/hyp.txt'\n",
    "ref = 'eval_test/ref1.txt'\n",
    "\n",
    "corpus = [text, text2,text3, text4]"
   ]
  },
  {
   "cell_type": "code",
   "execution_count": 19,
   "metadata": {},
   "outputs": [],
   "source": [
    "def wq(ta, xt=hyp):\n",
    "    with open(xt, 'w', encoding='utf-8') as f:\n",
    "        for t in tqdm(ta):\n",
    "            nt = nlp(t)\n",
    "            f.writelines([' '.join(nt), '\\n'])\n",
    "\n",
    "def wc(ta, xt=ref):\n",
    "    with open(xt, 'w', encoding='utf-8') as f:\n",
    "        f.writelines('\\n'.join(ta))\n"
   ]
  },
  {
   "cell_type": "code",
   "execution_count": 21,
   "metadata": {},
   "outputs": [
    {
     "name": "stdout",
     "output_type": "stream",
     "text": [
      "Writing eval_test/ref1.txt...\n",
      "Writing eval_test/hyp.txt...\n"
     ]
    },
    {
     "name": "stderr",
     "output_type": "stream",
     "text": [
      "100%|██████████| 4/4 [00:03<00:00,  1.01it/s]\n"
     ]
    }
   ],
   "source": [
    "print(\"Writing {0}...\".format(ref))\n",
    "wc(corpus)\n",
    "print(\"Writing {0}...\".format(hyp))\n",
    "wq(corpus)"
   ]
  },
  {
   "cell_type": "code",
   "execution_count": 22,
   "metadata": {},
   "outputs": [
    {
     "name": "stdout",
     "output_type": "stream",
     "text": [
      "Bleu_1: 0.133035\n",
      "Bleu_2: 0.099496\n",
      "Bleu_3: 0.080587\n",
      "Bleu_4: 0.070662\n",
      "METEOR: 0.148278\n",
      "ROUGE_L: 0.362969\n",
      "CIDEr: 1.722694\n"
     ]
    }
   ],
   "source": [
    "metrics_dict = compute_metrics(hypothesis=hyp, references=[ref], no_skipthoughts=True, no_glove=True) #, 'eval_test/ref2.txt'"
   ]
  },
  {
   "cell_type": "code",
   "execution_count": null,
   "metadata": {},
   "outputs": [],
   "source": []
  }
 ],
 "metadata": {
  "interpreter": {
   "hash": "47498515ab12efa1b601cdba97f63393ba71a785e03ed8d0031866b5c777e044"
  },
  "kernelspec": {
   "display_name": "Python 3 (ipykernel)",
   "language": "python",
   "name": "python3"
  },
  "language_info": {
   "codemirror_mode": {
    "name": "ipython",
    "version": 3
   },
   "file_extension": ".py",
   "mimetype": "text/x-python",
   "name": "python",
   "nbconvert_exporter": "python",
   "pygments_lexer": "ipython3",
   "version": "3.9.9"
  }
 },
 "nbformat": 4,
 "nbformat_minor": 4
}
